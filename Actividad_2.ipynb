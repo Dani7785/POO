{
 "cells": [
  {
   "cell_type": "markdown",
   "metadata": {},
   "source": [
    " Se tiene la siguiente información de un empleado:\n",
    " >· código del empleado\n",
    "\n",
    " >· nombres\n",
    "\n",
    " >· número de horas trabajadas al mes\n",
    "\n",
    " >· valor hora trabajada\n",
    " \n",
    " >· porcentaje de retención en la fuente\n",
    "\n",
    "Haga un algoritmo que muestre: código, nombres, salario bruto y salario neto. "
   ]
  },
  {
   "cell_type": "code",
   "execution_count": 1,
   "metadata": {},
   "outputs": [
    {
     "name": "stdout",
     "output_type": "stream",
     "text": [
      "El código del empleado es: 1\n",
      "El nombre del empleado es: Juan\n",
      "El salario bruto es: 4000\n",
      "El salario neto es: 3600.0\n"
     ]
    }
   ],
   "source": [
    "def mostrar_datos(cod, nom, htm, ht, rf):\n",
    "  sb = htm * ht\n",
    "  sn = sb - (sb * rf)\n",
    "  print(f\"El código del empleado es: {cod}\")\n",
    "  print(f\"El nombre del empleado es: {nom}\")\n",
    "  print(f\"El salario bruto es: {sb}\")\n",
    "  print(f\"El salario neto es: {sn}\")\n",
    "  \n",
    "mostrar_datos(1, \"Juan\", 100, 40, 0.1)"
   ]
  },
  {
   "cell_type": "markdown",
   "metadata": {},
   "source": [
    "### Dado el valor del lado en un triángulo equilátero, haga un algoritmo que obtenga el perímetro, el valor de la altura y el área del triángulo. "
   ]
  },
  {
   "cell_type": "code",
   "execution_count": 38,
   "metadata": {},
   "outputs": [],
   "source": [
    "from math import sqrt\n",
    "import numpy as np"
   ]
  },
  {
   "cell_type": "code",
   "execution_count": 10,
   "metadata": {},
   "outputs": [
    {
     "name": "stdout",
     "output_type": "stream",
     "text": [
      "La altura es: 6.928203230275509\n",
      "El perímetro es: 24\n",
      "El área es: 27.712812921102035\n"
     ]
    }
   ],
   "source": [
    "def informacion_triangulo(lado):\n",
    "  altura = (sqrt(3) / 2) * lado\n",
    "  perimetro = lado * 3\n",
    "  area = (lado * altura) / 2\n",
    "  print(f\"La altura es: {altura}\")\n",
    "  print(f\"El perímetro es: {perimetro}\")\n",
    "  print(f\"El área es: {area}\")\n",
    "  \n",
    "informacion_triangulo(8)"
   ]
  },
  {
   "cell_type": "markdown",
   "metadata": {},
   "source": [
    "### Dados los tres lados de un triángulo, haga un algoritmo que encuentre: perímetro, semiperímetro y el área del triángulo. "
   ]
  },
  {
   "cell_type": "code",
   "execution_count": 12,
   "metadata": {},
   "outputs": [
    {
     "name": "stdout",
     "output_type": "stream",
     "text": [
      "El perímetro es: 9\n",
      "El semiperímetro es: 4.5\n",
      "El área es: 2.9047375096555625\n"
     ]
    }
   ],
   "source": [
    "def informacion_triangulo2(lado1, lado2, lado3):\n",
    "  perimetro = lado1 + lado2 + lado3\n",
    "  semiperimetro = perimetro / 2\n",
    "  area = sqrt(semiperimetro * (semiperimetro - lado1) * (semiperimetro - lado2) * (semiperimetro - lado3))\n",
    "  print(f\"El perímetro es: {perimetro}\")\n",
    "  print(f\"El semiperímetro es: {semiperimetro}\")\n",
    "  print(f\"El área es: {area}\")\n",
    "  \n",
    "informacion_triangulo2(2,3,4)"
   ]
  },
  {
   "cell_type": "markdown",
   "metadata": {},
   "source": [
    "### Hacer un algoritmo que, dados dos valores numéricos A y B, escriba un mensaje diciendo si A es mayor, menor o igual a B. "
   ]
  },
  {
   "cell_type": "code",
   "execution_count": 14,
   "metadata": {},
   "outputs": [
    {
     "name": "stdout",
     "output_type": "stream",
     "text": [
      "3 es menor que 5\n"
     ]
    }
   ],
   "source": [
    "def mayor_menor(a,b):\n",
    "  if a > b:\n",
    "    print(f\"{a} es mayor que {b}\")\n",
    "  elif a < b:\n",
    "    print(f\"{a} es menor que {b}\")\n",
    "  else:\n",
    "    print(f\"{a} es igual a {b}\")\n",
    "mayor_menor(3,5)"
   ]
  },
  {
   "cell_type": "markdown",
   "metadata": {},
   "source": [
    "Cierta universidad para liquidar el pago de matrícula de un estudiante le exige los\n",
    "siguientes datos:\n",
    "\n",
    ">• Número de inscripción\n",
    "\n",
    ">• Nombres\n",
    "\n",
    ">• Patrimonio.\n",
    "\n",
    ">• Estrato social.\n",
    "\n",
    "La universidad cobra un valor constante para cada estudiante de $50.000. Si el patrimonio\n",
    "es mayor que $2´000.000 y el estrato superior a 3, se le incrementa un porcentaje del 3%\n",
    "sobre el patrimonio. Hacer un algoritmo que muestre:\n",
    "\n",
    ">• Número de inscripción.\n",
    "\n",
    ">• Nombres.\n",
    "\n",
    ">• Pago de matrícula."
   ]
  },
  {
   "cell_type": "code",
   "execution_count": 15,
   "metadata": {},
   "outputs": [
    {
     "name": "stdout",
     "output_type": "stream",
     "text": [
      "El número de matrícula es: 1\n",
      "El nombre del estudiante es: David\n",
      "El precio de la matrícula es: 140000.0\n"
     ]
    }
   ],
   "source": [
    "def precio_matricula(num, nom, pat, estrato):\n",
    "  precio_matricula = 50000\n",
    "  if pat > 2000000 and estrato > 3:\n",
    "    precio_matricula = precio_matricula + 0.03*pat\n",
    "  print(f\"El número de matrícula es: {num}\")\n",
    "  print(f\"El nombre del estudiante es: {nom}\")\n",
    "  print(f\"El precio de la matrícula es: {precio_matricula}\")\n",
    "  \n",
    "precio_matricula(1,\"David\", 3000000, 4)"
   ]
  },
  {
   "cell_type": "markdown",
   "metadata": {},
   "source": [
    "### Escribir un algoritmo que acepte tres números enteros diferentes y muestre el mayor de ellos. "
   ]
  },
  {
   "cell_type": "code",
   "execution_count": 17,
   "metadata": {},
   "outputs": [
    {
     "name": "stdout",
     "output_type": "stream",
     "text": [
      "7 es el número más grande\n"
     ]
    }
   ],
   "source": [
    "def mas_grande_3(a,b,c):\n",
    "  if a > b and a > c:\n",
    "    print(f\"{a} es el número más grande\")\n",
    "  elif b > c:\n",
    "    print(f\"{b} es el número más grande\")\n",
    "  else:\n",
    "    print(f\"{c} es el número más grande\")\n",
    "\n",
    "mas_grande_3(3,5,7)"
   ]
  },
  {
   "cell_type": "markdown",
   "metadata": {},
   "source": [
    "### Determinar la cantidad de dinero recibida por un trabajador por concepto de las horas semanales trabajadas en una empresa, sabiendo que cuando las horas de trabajo exceden de 40, el resto se considera horas extras y se pagan al doble de una hora normal, cuando no exceden de 8; si las horas extras exceden de 8, se pagan las primeras 8 al doble de lo que se paga una hora normal y el resto al triple. Del trabajador se conocen los siguientes datos: nombres, número de horas trabajadas en la semana y valor recibido por una hora normal de trabajo."
   ]
  },
  {
   "cell_type": "code",
   "execution_count": 19,
   "metadata": {},
   "outputs": [
    {
     "name": "stdout",
     "output_type": "stream",
     "text": [
      "El nombre del empleado es: Juan\n",
      "El salario es: 248000\n"
     ]
    }
   ],
   "source": [
    "def dinero_recibido(horas_trabajadas,  nombre, precio_hora):\n",
    "  if horas_trabajadas > 40:\n",
    "    horas_extras = horas_trabajadas - 40\n",
    "    if horas_extras > 8:\n",
    "      salario = (40 * precio_hora) + (8 * precio_hora * 2) + ((horas_extras - 8) * precio_hora * 3)\n",
    "    else:\n",
    "      salario = (40 * precio_hora) + (horas_extras * precio_hora * 2)\n",
    "  else:\n",
    "    salario = horas_trabajadas * precio_hora\n",
    "  print(f\"El nombre del empleado es: {nombre}\")\n",
    "  print(f\"El salario es: {salario}\")\n",
    "\n",
    "dinero_recibido(50, \"Juan\", 4000)"
   ]
  },
  {
   "cell_type": "markdown",
   "metadata": {},
   "source": [
    "### Un almacén efectúa una promoción en la cual se hace un descuento sobre el valor de la compra total, según el color de la bolita que el cliente saque al pagar en caja. Si la bolita es blanca no se le hará descuento alguno, si es verde se le hará un 10% de descuento, si es amarilla un 25%, si es azul un 50% y si es roja un 100%. Hacer un algoritmo para determinar la cantidad final que un cliente deberá pagar por su compra. Se sabe que sólo hay bolitas de los colores mencionados. "
   ]
  },
  {
   "cell_type": "code",
   "execution_count": 123,
   "metadata": {},
   "outputs": [
    {
     "name": "stdout",
     "output_type": "stream",
     "text": [
      "Sacaste la bolita rojo el precio a pagar es: 0 pesos\n"
     ]
    }
   ],
   "source": [
    "def cantidad_pagar(precio):\n",
    "  num_rand = np.random.randint(0,5)\n",
    "  colores = [\"rojo\", \"verde\", \"azul\", \"amarillo\", \"blanco\"]\n",
    "  descuentos = {\"blanco\": 0, \"verde\": 0.1, \"amarillo\": 0.25, \"azul\": 0.5, \"rojo\": 1}\n",
    "  total_pagar = precio - (precio * descuentos[colores[num_rand]])\n",
    "  print(f\"Sacaste la bolita {colores[num_rand]} el precio a pagar es: {total_pagar} pesos\")\n",
    "  \n",
    "cantidad_pagar(10000)"
   ]
  },
  {
   "cell_type": "markdown",
   "metadata": {},
   "source": [
    "Una empresa con tres departamentos tiene establecido un plan de incentivos para sus vendedores. Al final del período, a cada departamento se le pide el importe global de las ventas. A los departamentos que excedan el 33% de las ventas totales se les adiciona al salario de los vendedores un porcentaje equivalente al 20% del salario mensual. Las nóminas de los tres departamentos son iguales. Si se tienen los siguientes datos:\n",
    "\n",
    "> • Ventas del departamento 1\n",
    "\n",
    "> • Ventas del departamento 2\n",
    "\n",
    "> • Ventas del departamento 3\n",
    "\n",
    "> • Salario de los vendedores de cada departamento\n",
    "\n",
    "Hacer un algoritmo que determine cuánto recibirán los vendedores de cada departamento\n",
    "al finalizar el período. "
   ]
  },
  {
   "cell_type": "code",
   "execution_count": 3,
   "metadata": {},
   "outputs": [
    {
     "name": "stdout",
     "output_type": "stream",
     "text": [
      "El salario del departamento 1 es: 1000000\n",
      "El salario del departamento 2 es: 1200000.0\n",
      "El salario del departamento 3 es: 1200000.0\n"
     ]
    }
   ],
   "source": [
    "def salario_departamentos(v1,v2,v3, sal):\n",
    "  total = v1 + v2 + v3\n",
    "  porcentaje1 = v1 / total\n",
    "  porcentaje2 = v2 / total\n",
    "  porcentaje3 = v3 / total\n",
    "  \n",
    "  if porcentaje1 > 0.33:\n",
    "    sal1 = sal + (sal * 0.2)\n",
    "  else:\n",
    "    sal1 = sal\n",
    "    \n",
    "  if porcentaje2 > 0.33:\n",
    "    sal2 = sal + (sal * 0.2)\n",
    "  else:\n",
    "    sal2 = sal\n",
    "  \n",
    "  if porcentaje3 > 0.33:\n",
    "    sal3 = sal + (sal * 0.2)\n",
    "  else:\n",
    "    sal3 = sal\n",
    "    \n",
    "  print(f\"El salario del departamento 1 es: {sal1}\")\n",
    "  print(f\"El salario del departamento 2 es: {sal2}\")\n",
    "  print(f\"El salario del departamento 3 es: {sal3}\")\n",
    "  \n",
    "salario_departamentos(3,4,5,1000000)"
   ]
  },
  {
   "cell_type": "markdown",
   "metadata": {},
   "source": [
    "### Se tienen cuatro esferas (A, B, C, D) de las cuales se sabe que tres son de igual peso y una diferente. Elaborar un algoritmo que determine cuál es la esfera diferente y si es de mayor o menor peso. "
   ]
  },
  {
   "cell_type": "code",
   "execution_count": 29,
   "metadata": {},
   "outputs": [
    {
     "name": "stdout",
     "output_type": "stream",
     "text": [
      "El peso diferente es: B y Tiene menor peso\n"
     ]
    }
   ],
   "source": [
    "def det_pes_dif(peso1, peso2, peso3, peso4):\n",
    "  arr = [peso1, peso2, peso3, peso4]\n",
    "  dict = {0:'A', 1:'B', 2:'C', 3:'D'}\n",
    "  for i in range(3):\n",
    "    if arr[i] != arr[i+1]:\n",
    "      es_mayor = \"Tiene mayor peso\" if arr[i] < arr[i+1] else \"Tiene menor peso\"\n",
    "      print(f\"El peso diferente es: {dict[i+1]} y {es_mayor}\")\n",
    "      break\n",
    "  \n",
    "  \n",
    "det_pes_dif(3,1,3,3)  "
   ]
  },
  {
   "cell_type": "markdown",
   "metadata": {},
   "source": [
    "### Elaborar un algoritmo que entre el nombre de un empleado, su salario básico por hora y el número de horas trabajadas en el mes; escriba su nombre y salario mensual si éste es mayor de $450.000, de lo contrario escriba sólo el nombre. "
   ]
  },
  {
   "cell_type": "code",
   "execution_count": 30,
   "metadata": {},
   "outputs": [
    {
     "name": "stdout",
     "output_type": "stream",
     "text": [
      "El salario de David es: 1000000.0\n"
     ]
    }
   ],
   "source": [
    "nombre = input(\"Ingrese su nombre: \")\n",
    "precio_hora = float(input(\"Ingrese la ganancia por hora: \"))\n",
    "horas = float(input(\"Ingrese las horas trabajadas: \"))\n",
    "\n",
    "salario_mes = precio_hora * horas\n",
    "\n",
    "if salario_mes > 450000:\n",
    "  print(f\"El salario de {nombre} es: {salario_mes}\")\n",
    "else:\n",
    "  print(f\"Me llamo {nombre}\")"
   ]
  },
  {
   "cell_type": "markdown",
   "metadata": {},
   "source": [
    "### Dados los valores A, B y C que son los parámetros de una ecuación de segundo grado, elaborar un algoritmo para hallar las posibles soluciones de dicha ecuación. "
   ]
  },
  {
   "cell_type": "code",
   "execution_count": 43,
   "metadata": {},
   "outputs": [
    {
     "name": "stdout",
     "output_type": "stream",
     "text": [
      "Las soluciones son: -1.0 y -2.0\n"
     ]
    }
   ],
   "source": [
    "def solucion_ecn_segundo_grado(a,b,c):\n",
    "  discriminante = b**2 - 4*a*c\n",
    "  if discriminante > 0:\n",
    "    x1 = (-b + sqrt(discriminante)) / (2*a)\n",
    "    x2 = (-b - sqrt(discriminante)) / (2*a)\n",
    "    print(f\"Las soluciones son: {x1} y {x2}\")\n",
    "  elif discriminante == 0:\n",
    "    x = -b / (2*a)\n",
    "    print(f\"La solución es: {x}\")\n",
    "  else:\n",
    "    print(\"No tiene solución real\")\n",
    "    \n",
    "solucion_ecn_segundo_grado(1,3,2)"
   ]
  },
  {
   "cell_type": "markdown",
   "metadata": {},
   "source": [
    "### Se tienen tres esferas (A,B,C) de diferente peso, elaborar un algoritmo que determine cuál es la esfera de mayor peso. "
   ]
  },
  {
   "cell_type": "code",
   "execution_count": 44,
   "metadata": {},
   "outputs": [
    {
     "name": "stdout",
     "output_type": "stream",
     "text": [
      "La esfera C es la más pesada\n"
     ]
    }
   ],
   "source": [
    "def peso_esferas(a,b,c):\n",
    "  if a > b and a > c:\n",
    "    print(f\"La esfera A es la más pesada\")\n",
    "  elif b > c:\n",
    "    print(f\"La esfera B es la más pesada\")\n",
    "  else:\n",
    "    print(f\"La esfera C es la más pesada\")\n",
    "    \n",
    "peso_esferas(3,5,7)"
   ]
  }
 ],
 "metadata": {
  "kernelspec": {
   "display_name": "Python 3",
   "language": "python",
   "name": "python3"
  },
  "language_info": {
   "codemirror_mode": {
    "name": "ipython",
    "version": 3
   },
   "file_extension": ".py",
   "mimetype": "text/x-python",
   "name": "python",
   "nbconvert_exporter": "python",
   "pygments_lexer": "ipython3",
   "version": "3.12.2"
  }
 },
 "nbformat": 4,
 "nbformat_minor": 2
}
